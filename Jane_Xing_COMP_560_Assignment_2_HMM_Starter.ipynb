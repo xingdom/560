{
  "nbformat": 4,
  "nbformat_minor": 0,
  "metadata": {
    "colab": {
      "provenance": []
    },
    "kernelspec": {
      "name": "python3",
      "display_name": "Python 3"
    },
    "language_info": {
      "name": "python"
    }
  },
  "cells": [
    {
      "cell_type": "code",
      "execution_count": 68,
      "metadata": {
        "id": "zUn0tMKzVVCS"
      },
      "outputs": [],
      "source": [
        "import math\n",
        "outputs = [0, 0, 2, 2, 1] # X_1 .. X_N\n",
        "transition_prob = [[0.55, 0.25, 0.2],\\\n",
        "                   [0.15, 0.7, 0.15],\\\n",
        "                   [0.2, 0.3, 0.4]]\n",
        "emission_prob = [[0.1, 0.3, 0.6],\\\n",
        "                 [0.2, 0.5, 0.3],\\\n",
        "                 [0.6, 0.3, 0.1]]\n",
        "start_prob = [0.3, 0.3, 0.4]"
      ]
    },
    {
      "cell_type": "code",
      "source": [
        "import math\n",
        "\n",
        "class HMM:\n",
        "  def __init__(self, transition_prob: list[list[int]], emission_prob: list[list[int]], start: list[int]):\n",
        "    # P(Y_(t+1) | Y_t)\n",
        "    self.transition_prob = transition_prob\n",
        "\n",
        "    # P(X_t | Y_t)\n",
        "    self.emission_prob = emission_prob\n",
        "\n",
        "    self.start = start\n",
        "\n",
        "  def joint_prob(self, outputs: list[int], hiddens: list[int]) -> float:\n",
        "    res = start_prob[hiddens[0]]\n",
        "    for i in range(len(outputs)):\n",
        "      # Multiply in transition prob\n",
        "      if i != 0:\n",
        "        res *= transition_prob[hiddens[i-1]][hiddens[i]]\n",
        "      res *= emission_prob[hiddens[i]][outputs[i]]\n",
        "    return res\n",
        "\n",
        "\n",
        "  def conditional_weights(self, outputs: list[int], hiddens: list[int], t: int) -> list[float]:\n",
        "    # Returns P(Yi = y | Yi-1 = yi-1, Yi+1 = yi+1, Xi = xi)\n",
        "    res = []\n",
        "    for y in range(3): # iterates through y = 0, 1, 2\n",
        "      # Adding one instance to result\n",
        "      inst = 1\n",
        "      # First term: P(Yi = y | Yi-1 = yi-1) if t!=0 else P(Y0=y)\n",
        "      first_term = transition_prob[hiddens[t-1]][y] if t != 0 else start_prob[y]\n",
        "      inst *= first_term\n",
        "      # Second term: P(Yi+1 = yi+1 | Yi = y) -- omit if i = n-1\n",
        "      if t != len(hiddens) - 1:\n",
        "        inst *= transition_prob[y][hiddens[t+1]]\n",
        "      # Third term: P(Xi = xi | Y = y)\n",
        "      inst *= emission_prob[y][outputs[t]]\n",
        "      res.append(inst)\n",
        "    return res"
      ],
      "metadata": {
        "id": "AbSSWyHioPr6"
      },
      "execution_count": 57,
      "outputs": []
    },
    {
      "cell_type": "code",
      "source": [
        "hmm = HMM(transition_prob, emission_prob, start_prob)"
      ],
      "metadata": {
        "id": "JyodvskCFXYL"
      },
      "execution_count": 69,
      "outputs": []
    },
    {
      "cell_type": "code",
      "source": [
        "# Test cases\n",
        "print(hmm.joint_prob([0,0,2,2,1], [1,1,1,1,1]))\n",
        "# about 0.000129654\n",
        "print(hmm.joint_prob([0,0,2,2,1], [2,2,0,0,1]))\n",
        "# 0.00028512"
      ],
      "metadata": {
        "id": "XqAkOs3fFKpU",
        "colab": {
          "base_uri": "https://localhost:8080/"
        },
        "outputId": "62034989-b2e3-4827-f546-96a47bac3329"
      },
      "execution_count": 70,
      "outputs": [
        {
          "output_type": "stream",
          "name": "stdout",
          "text": [
            "0.00012965399999999993\n",
            "0.00028512000000000003\n"
          ]
        }
      ]
    },
    {
      "cell_type": "code",
      "source": [
        "import itertools\n",
        "\n",
        "def get_most_likely_hidden_states(hmm: HMM, outputs: list[int]):\n",
        "  # TODO\n",
        "  res_prob = [] # (hidden states, conditional prob)\n",
        "  all_hiddens = []\n",
        "  # iterate over possible hidden states\n",
        "  for hiddens in itertools.product([0,1,2],repeat=5):\n",
        "    hiddens = list(hiddens) # convert to list\n",
        "    all_hiddens.append(hiddens)\n",
        "\n",
        "  # Calculate P(x1,..,xn) by summing out Ys\n",
        "  denom = sum(hmm.joint_prob(outputs, h) for h in all_hiddens)\n",
        "\n",
        "  for h in all_hiddens:\n",
        "    prob = hmm.joint_prob(outputs, h) / denom\n",
        "    res_prob.append((prob, h))\n",
        "\n",
        "  sorted_res = sorted(res_prob, key=lambda x: x[0], reverse=True)\n",
        "\n",
        "  for i in range(10):\n",
        "    print(\"Rank \" + str(i+1) + \": Y states \" + str(sorted_res[i][1]) + \" with conditional probability of \" + str(sorted_res[i][0]))\n"
      ],
      "metadata": {
        "id": "HAZllJMwpARK"
      },
      "execution_count": 71,
      "outputs": []
    },
    {
      "cell_type": "code",
      "source": [
        "get_most_likely_hidden_states(hmm, outputs)"
      ],
      "metadata": {
        "id": "juB1P-wNl3DA",
        "colab": {
          "base_uri": "https://localhost:8080/"
        },
        "outputId": "d9698349-09bf-455e-caa4-76a368b1893a"
      },
      "execution_count": 72,
      "outputs": [
        {
          "output_type": "stream",
          "name": "stdout",
          "text": [
            "Rank 1: Y states [2, 2, 1, 1, 1] with conditional probability of 0.10142053368734852\n",
            "Rank 2: Y states [2, 2, 0, 0, 0] with conditional probability of 0.10017864960138102\n",
            "Rank 3: Y states [2, 2, 0, 0, 1] with conditional probability of 0.0758929163646826\n",
            "Rank 4: Y states [2, 1, 1, 1, 1] with conditional probability of 0.05916197798428662\n",
            "Rank 5: Y states [2, 2, 0, 1, 1] with conditional probability of 0.04829549223207073\n",
            "Rank 6: Y states [2, 2, 0, 0, 2] with conditional probability of 0.03642859985504764\n",
            "Rank 7: Y states [1, 1, 1, 1, 1] with conditional probability of 0.034511153824167196\n",
            "Rank 8: Y states [2, 0, 0, 0, 0] with conditional probability of 0.022957607200316484\n",
            "Rank 9: Y states [2, 2, 1, 0, 0] with conditional probability of 0.020491087418464296\n",
            "Rank 10: Y states [2, 2, 2, 1, 1] with conditional probability of 0.01931819689282829\n"
          ]
        }
      ]
    },
    {
      "cell_type": "markdown",
      "source": [
        "# Gibbs Sampling"
      ],
      "metadata": {
        "id": "dvG5mecznEvB"
      }
    },
    {
      "cell_type": "code",
      "source": [
        "# Test cases\n",
        "print(hmm.conditional_weights([0,0,2,2,1], [1,1,1,1,1], 2))\n",
        "# about [0.0225, 0.147, 0.0045]\n",
        "print(hmm.conditional_weights([0,0,2,2,1], [2,2,0,0,1], 2))\n",
        "# about [0.066, 0.0135, 0.00800000000000000]"
      ],
      "metadata": {
        "id": "mlfz3KvGuis2",
        "outputId": "bd85d8b4-a348-4e4d-8cf7-d68171e1c5a7",
        "colab": {
          "base_uri": "https://localhost:8080/"
        }
      },
      "execution_count": 73,
      "outputs": [
        {
          "output_type": "stream",
          "name": "stdout",
          "text": [
            "[0.0225, 0.14699999999999996, 0.0045]\n",
            "[0.066, 0.0135, 0.008000000000000002]\n"
          ]
        }
      ]
    },
    {
      "cell_type": "code",
      "source": [
        "# Perform a single Gibbs sample Y_1 .. Y_N ~ P(Y_1 .. Y_N | X_1 .. X_N)\n",
        "import random\n",
        "\n",
        "def gibbs_sample(hmm: HMM, outputs: list[int]) -> list[list[int]]:\n",
        "  # Run outer loop for 1000 iterations, then 5000 take a sample of y0...yn-1 and add to res\n",
        "  # Use random.choices(population=population, weights=weights, k=1)[0] to sample a single value\n",
        "  N = len(outputs)\n",
        "  ys = [0] * N\n",
        "  res = [None] * 5000\n",
        "\n",
        "  for t in range(6000):\n",
        "    # Making the step\n",
        "    for i in range(N):\n",
        "      weights = hmm.conditional_weights(outputs, ys, i)\n",
        "      ys[i] = random.choices(population=[i for i in range(len(weights))], weights=weights, k=1)[0]\n",
        "    if t >= 1000:\n",
        "      res[t-1000] = [y for y in ys]\n",
        "\n",
        "  return res"
      ],
      "metadata": {
        "id": "i_HeCWOLo0ZV"
      },
      "execution_count": 87,
      "outputs": []
    },
    {
      "cell_type": "code",
      "source": [
        "import collections\n",
        "def estimate_likely_hidden_states(hmm: HMM, outputs: list[int]):\n",
        "  res_prob = [] # (hidden states, conditional prob)\n",
        "  all_hiddens = {}\n",
        "  # iterate over possible hidden states\n",
        "  for hiddens in itertools.product([0,1,2],repeat=5):\n",
        "    hiddens = list(hiddens) # convert to list\n",
        "    all_hiddens[tuple(hiddens)] = 0\n",
        "  samples = gibbs_sample(hmm, outputs)\n",
        "  for sample in samples:\n",
        "    all_hiddens[tuple(sample)] += 1\n",
        "  sorted_samples = sorted(all_hiddens, key=lambda x: all_hiddens[x], reverse=True)\n",
        "  for i in range(10):\n",
        "    print(sorted_samples[i])"
      ],
      "metadata": {
        "id": "0fZEX27glNkN"
      },
      "execution_count": 92,
      "outputs": []
    },
    {
      "cell_type": "code",
      "source": [
        "estimate_likely_hidden_states(hmm, outputs)"
      ],
      "metadata": {
        "colab": {
          "base_uri": "https://localhost:8080/"
        },
        "id": "Jib33tKbnjSd",
        "outputId": "1ce53b27-1794-4492-a123-b8b70ab7c8c6"
      },
      "execution_count": 93,
      "outputs": [
        {
          "output_type": "stream",
          "name": "stdout",
          "text": [
            "(2, 2, 1, 1, 1)\n",
            "(2, 2, 0, 0, 0)\n",
            "(2, 2, 0, 0, 1)\n",
            "(2, 1, 1, 1, 1)\n",
            "(2, 2, 0, 1, 1)\n",
            "(1, 1, 1, 1, 1)\n",
            "(2, 2, 0, 0, 2)\n",
            "(2, 0, 0, 0, 0)\n",
            "(2, 1, 0, 0, 0)\n",
            "(2, 2, 2, 1, 1)\n"
          ]
        }
      ]
    },
    {
      "cell_type": "code",
      "source": [],
      "metadata": {
        "id": "9GITNQ3-qH4F"
      },
      "execution_count": null,
      "outputs": []
    }
  ]
}